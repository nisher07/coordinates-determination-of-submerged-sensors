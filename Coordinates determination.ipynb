import numpy as np
from numpy import *
import random
from scipy.optimize import *
import statistics
x1, y1, z1 = input("Coordinates of the first sensor: ").split()
x1=float(x1)
x11=x1
y1=float(y1)
y11=y1
z1=float(z1)
z11=z1
x2, y2, z2 = input("Coordinates of the second sensor: ").split()
x2=float(x2)
x22=x2
y2=float(y2)
y22=y2
z2=float(z2)
z22=z2
x3, y3, z3 = input("Coordinates of the third sensor: ").split()
x3=float(x3)
x33=x3
y3=float(y3)
y33=y3
z3=float(z3)
z33=z3
x4, y4, z4 = input("Coordinates of beacon node from first position: ").split()
x4=float(x4)
y4=float(y4)
z4=float(z4)
x5, y5, z5 = input("Coordinates of beacon node from second position : ").split()
x5=float(x5)
y5=float(y5)
z5=float(z5)
x6, y6, z6 = input("Coordinates of beacon node from third position: ").split()
x6=float(x6)
y6=float(y6)
z6=float(z6)
x7, y7, z7 = input("Coordinates of beacon node from forth position: ").split()
x7=float(x7)
y7=float(y7)
z7=float(z7)
x8, y8, z8 = input("Coordinates of beacon node from fifth position: ").split()
x8=float(x8)
y8=float(y8)
z8=float(z8)
x9, y9, z9 = input("Coordinates of beacon node from sixth position: ").split()
x9=float(x9)
y9=float(y9)
z9=float(z9)

sample=[]
for i in range(0,99):
    p=random.uniform(0.00,1.00)
    sample.append(p)
s=statistics.stdev(sample)
d14 = ((((x1-x4)**2)+((y1-y4)**2)+((z1-z4)**2))**0.5)+s
sample=[]
for i in range(0,99):
    p=random.uniform(0.00,1.00)
    sample.append(p)
s=statistics.stdev(sample)
d24 = ((((x2-x4)**2)+((y2-y4)**2)+((z2-z4)**2))**0.5)+s
sample=[]
for i in range(0,99):
    p=random.uniform(0.00,1.00)
    sample.append(p)
s=statistics.stdev(sample)
d34 = ((((x3-x4)**2)+((y3-y4)**2)+((z3-z4)**2))**0.5)+s
sample=[]
for i in range(0,99):
    p=random.uniform(0.00,1.00)
    sample.append(p)
s=statistics.stdev(sample)
d15 = ((((x1-x5)**2)+((y1-y5)**2)+((z1-z5)**2))**0.5)+s
sample=[]
for i in range(0,99):
    p=random.uniform(0.00,1.00)
    sample.append(p)
s=statistics.stdev(sample)
d25 = ((((x2-x5)**2)+((y2-y5)**2)+((z2-z5)**2))**0.5)+s
sample=[]
for i in range(0,99):
    p=random.uniform(0.00,1.00)
    sample.append(p)
s=statistics.stdev(sample)
d35 = ((((x3-x5)**2)+((y3-y5)**2)+((z3-z5)**2))**0.5)+s
sample=[]
for i in range(0,99):
    p=random.uniform(0.00,1.00)
    sample.append(p)
s=statistics.stdev(sample)
d16 = ((((x1-x6)**2)+((y1-y6)**2)+((z1-z6)**2))**0.5)+s
sample=[]
for i in range(0,99):
    p=random.uniform(0.00,1.00)
    sample.append(p)
s=statistics.stdev(sample)
d26 = ((((x2-x6)**2)+((y2-y6)**2)+((z2-z6)**2))**0.5)+s
sample=[]
for i in range(0,99):
    p=random.uniform(0.00,1.00)
    sample.append(p)
s=statistics.stdev(sample)
d36 = ((((x3-x6)**2)+((y3-y6)**2)+((z3-z6)**2))**0.5)+s
sample=[]
for i in range(0,99):
    p=random.uniform(0.00,1.00)
    sample.append(p)
s=statistics.stdev(sample)
d17 = ((((x1-x7)**2)+((y1-y7)**2)+((z1-z7)**2))**0.5)+s
sample=[]
for i in range(0,99):
    p=random.uniform(0.00,1.00)
    sample.append(p)
s=statistics.stdev(sample)
d27 = ((((x2-x7)**2)+((y2-y7)**2)+((z2-z7)**2))**0.5)+s
sample=[]
for i in range(0,99):
    p=random.uniform(0.00,1.00)
    sample.append(p)
s=statistics.stdev(sample)
d37 = ((((x3-x7)**2)+((y3-y7)**2)+((z3-z7)**2))**0.5)+s
sample=[]
for i in range(0,99):
    p=random.uniform(0.00,1.00)
    sample.append(p)
s=statistics.stdev(sample)
d18 = ((((x1-x8)**2)+((y1-y8)**2)+((z1-z8)**2))**0.5)+s
sample=[]
for i in range(0,99):
    p=random.uniform(0.00,1.00)
    sample.append(p)
s=statistics.stdev(sample)
d28 = ((((x2-x8)**2)+((y2-y8)**2)+((z2-z8)**2))**0.5)+s
sample=[]
for i in range(0,99):
    p=random.uniform(0.00,1.00)
    sample.append(p)
s=statistics.stdev(sample)
d38 = ((((x3-x8)**2)+((y3-y8)**2)+((z3-z8)**2))**0.5)+s
sample=[]
for i in range(0,99):
    p=random.uniform(0.00,1.00)
    sample.append(p)
s=statistics.stdev(sample)
d19 = ((((x1-x9)**2)+((y1-y9)**2)+((z1-z9)**2))**0.5)+s
sample=[]
for i in range(0,99):
    p=random.uniform(0.00,1.00)
    sample.append(p)
s=statistics.stdev(sample)
d29 = ((((x2-x9)**2)+((y2-y9)**2)+((z2-z9)**2))**0.5)+s
sample=[]
for i in range(0,99):
    p=random.uniform(0.00,1.00)
    sample.append(p)
s=statistics.stdev(sample)
d39 = ((((x3-x9)**2)+((y3-y9)**2)+((z3-z9)**2))**0.5)+s
h1 = abs(z1)
h2 = abs(z2)
h3 = abs(z3)
h=0
if (h1<h2)&(h1<h3):
    h=h1

elif (h2<h1)&(h2<h3):
    h=h2

    temp=d14
    d14=d24
    d24=d34
    d34=temp
    temp=d15
    d15=d25
    d25=d35
    d35=temp
    temp=d16
    d16=d26
    d26=d36
    d36=temp
    temp=d17
    d17=d27
    d27=d37
    d37=temp
    temp=d18
    d18=d28
    d28=d38
    d38=temp
    temp=d19
    d19=d29
    d29=d39
    d39=temp

elif (h3<h1)&(h3<h2):
    h=h3

    temp=d14
    d14=d34
    d34=d24
    d24=temp
    temp=d15
    d15=d35
    d35=d25
    d25=temp
    temp=d16
    d16=d36
    d36=d26
    d26=temp
    temp=d17
    d17=d37
    d37=d27
    d27=temp
    temp=d18
    d18=d38
    d38=d28
    d28=temp
    temp=d19
    d19=d39
    d39=d29
    d29=temp

d24=((d24*d24)-(h2*h2)+(h*h))**0.5
d25=((d25*d25)-(h2*h2)+(h*h))**0.5
d26=((d26*d26)-(h2*h2)+(h*h))**0.5
d27=((d27*d27)-(h2*h2)+(h*h))**0.5
d28=((d28*d28)-(h2*h2)+(h*h))**0.5
d29=((d29*d29)-(h2*h2)+(h*h))**0.5

d34=((d34*d34)-(h3*h3)+(h*h))**0.5
d35=((d35*d35)-(h3*h3)+(h*h))**0.5
d36=((d36*d36)-(h3*h3)+(h*h))**0.5
d37=((d37*d37)-(h3*h3)+(h*h))**0.5
d38=((d38*d38)-(h3*h3)+(h*h))**0.5
d39=((d39*d39)-(h3*h3)+(h*h))**0.5

A = np.array([[(d14*d14),(d24*d24),(d34*d34),((-1)*((d14*d14)-(d34*d34))*((d24*d24)-(d14*d14))),((-1)*((d24*d24)-(d14*d14))*((d34*d34)-(d24*d24))),1],
              [(d15*d15),(d25*d25),(d35*d35),((-1)*((d15*d15)-(d35*d35))*((d25*d25)-(d15*d15))),((-1)*((d25*d25)-(d15*d15))*((d35*d35)-(d25*d25))),1],
              [(d16*d16),(d26*d26),(d36*d36),((-1)*((d16*d16)-(d36*d36))*((d26*d26)-(d16*d16))),((-1)*((d26*d26)-(d16*d16))*((d36*d36)-(d26*d26))),1],
              [(d17*d17),(d27*d27),(d37*d37),((-1)*((d17*d17)-(d37*d37))*((d27*d27)-(d17*d17))),((-1)*((d27*d27)-(d17*d17))*((d37*d37)-(d27*d27))),1],
              [(d18*d18),(d28*d28),(d38*d38),((-1)*((d18*d18)-(d38*d38))*((d28*d28)-(d18*d18))),((-1)*((d28*d28)-(d18*d18))*((d38*d38)-(d28*d28))),1],
              [(d19*d19),(d29*d29),(d39*d39),((-1)*((d19*d19)-(d39*d39))*((d29*d29)-(d19*d19))),((-1)*((d29*d29)-(d19*d19))*((d39*d39)-(d29*d29))),1]
             ])
b = np.array([(((d24*d24)-(d34*d34))*((d34*d34)-(d14*d14))),
              (((d25*d25)-(d35*d35))*((d35*d35)-(d15*d15))),
              (((d26*d26)-(d36*d36))*((d36*d36)-(d16*d16))),
              (((d27*d27)-(d37*d37))*((d37*d37)-(d17*d17))),
              (((d28*d28)-(d38*d38))*((d38*d38)-(d18*d18))),
              (((d29*d29)-(d39*d39))*((d39*d39)-(d19*d19)))])
X = np.linalg.solve(A,b)
X1 = X[0]
X2 = X[1]
X3 = X[2]
X4 = X[3]
X5 = X[4]
X6 = X[5]

def myfunction1(d):
    d12 = d[0]
    d13 = d[1]
    d23 = d[2]
    f = empty((3))
    f[0] = (d12*d12)-(d23*d23)-(d13*d13)-X3
    f[1] = ((d23*d23)/(d12*d12))-X4
    f[2] = ((d13*d13)/(d12*d12))-X5
    return f


dGuess = array([1,1,1])

d = fsolve(myfunction1,dGuess)
d12 = abs(d[0])
d13 = abs(d[1])
d23 = abs(d[2])


y2 = d12
y3 = ((d12*d12)+(d13*d13)-(d23*d23))/(2*d12)
x3 = ((d13*d13)-(((d12*d12)+(d13*d13)-(d23*d23))/(2*d12))**2)**0.5


D14 = ((d14*d14)-(h*h))**0.5
D24 = ((d24*d24)-(h*h))**0.5
D34 = ((d34*d34)-(h*h))**0.5


def myfunction2(p):
    x4 = p[0]
    y4 = p[1]
    g = empty((2))
    g[0] = (x4*x4)+((y4-y2)**2)-(D24*D24)
    g[1] = ((x4-x3)**2)+((y4-y3)**2)-(D34*D34)
    return g

pGuess = array([1,1])

p = fsolve(myfunction2,pGuess)
x4 = p[0]
y4 = p[1]
z4 = h

if (h1<h2)&(h1<h3):
    x1=((-1)*x4)
    y1=((-1)*y4)
    z1=((-1)*z4)
    x2=((-1)*x4)
    y2=(y2-y4)
    z2=((-1)*z4)-(h2-h1)
    x3=(x3-x4)
    y3=(y4-y3)
    z3=((-1)*z4)-(h3-h1)
    print("Coordinates of first sensor:")
    print("(",x1,",", y1,",", z1,")")
    print("Coordinates of second sensor:")
    print("(",x2,",", y2,",", z2,")")
    print("Coordinates of third sensor:")
    print("(",x3,",", y3,",", z3,")")
    print("Coordinates of beacon node:")
    print("(",0,",", 0,",", 0,")")
    

elif (h2<h1)&(h2<h3):
    x2=((-1)*x4)
    y2=((-1)*y4)
    z2=((-1)*z4)
    x1=(x3-x4)
    y1=(y4-y3)
    z1=((-1)*z4)-(h1-h2)
    x3=((-1)*x4)
    y3=(y2-y4)
    z3=((-1)*z4)-(h3-h2)
    print("Coordinates of first sensor:")
    print("(",x1,",", y1,",", z1,")")
    print("Coordinates of second sensor:")
    print("(",x2,",", y2,",", z2,")")
    print("Coordinates of third sensor:")
    print("(",x3,",", y3,",", z3,")")
    print("Coordinates of beacon node:")
    print("(",0,",", 0,",", 0,")")

elif (h3<h1)&(h3<h2):
    x3=((-1)*x4)
    y3=((-1)*y4)
    z3=((-1)*z4)
    x2=(x3-x4)
    y2=(y4-y3)
    z2=((-1)*z4)-(h2-h3)
    x1=((-1)*x4)
    y1=(y2-y4)
    z1=((-1)*z4)-(h1-h3)
    print("Coordinates of first sensor:")
    print("(",x1,",", y1,",", z1,")")
    print("Coordinates of second sensor:")
    print("(",x2,",", y2,",", z2,")")
    print("Coordinates of third sensor:")
    print("(",x3,",", y3,",", z3,")")
    print("Coordinates of beacon node:")
    print("(",0,",", 0,",", 0,")")
E1=((x1-x11)**2+(y1-y11)**2+(z1-z11)**2)**0.5
E2=((x2-x2)**2+(y2-y22)**2+(z2-z22)**2)**0.5
E3=((x3-x33)**2+(y3-y33)**2+(z3-z33)**2)**0.5

print("Distance error of first sensor: ")
print(E1)
print("Distance error of second sensor: ")
print(E2)
print("Distance error of third sensor: ")
print(E3)

import matplotlib.pyplot as plt
from mpl_toolkits.mplot3d import Axes3D

fig = plt.figure()
ax = fig.add_subplot(111, projection = '3d')
X = [-9.832012008544677,-9.832012008544677,10.762110535592637,0]
Y = [-33.03900101497752,8.486656832235035,9.272904170528356,0]
Z = [-4,-5,-7,0]
ax.scatter(X,Y,Z, c='r', marker = 'o')
ax.set_xlabel('x axis')
ax.set_ylabel('y axis')
ax.set_zlabel('z axis')
plt.show()